{
  "nbformat": 4,
  "nbformat_minor": 0,
  "metadata": {
    "colab": {
      "name": "Kmeans_CAH_GMM.ipynb",
      "provenance": [],
      "collapsed_sections": [],
      "include_colab_link": true
    },
    "kernelspec": {
      "name": "python3",
      "display_name": "Python 3"
    }
  },
  "cells": [
    {
      "cell_type": "markdown",
      "metadata": {
        "id": "view-in-github",
        "colab_type": "text"
      },
      "source": [
        "<a href=\"https://colab.research.google.com/github/DaikhaChabane/machine-learning/blob/master/Kmeans_CAH_GMM.ipynb\" target=\"_parent\"><img src=\"https://colab.research.google.com/assets/colab-badge.svg\" alt=\"Open In Colab\"/></a>"
      ]
    },
    {
      "cell_type": "markdown",
      "metadata": {
        "id": "ibNq-K3Fx8R4",
        "colab_type": "text"
      },
      "source": [
        "<p><img alt=\"Colaboratory logo\" height=\"45px\" src=\"https://upload.wikimedia.org/wikipedia/fr/b/ba/UPEC-logo.svg\" align=\"center\" hspace=\"500px\" vspace=\"20px\"></p>\n",
        "\n",
        "<h1 align=\"center\"><b>Rapport du projet Apprentissage artificielle </b></h1> \n",
        "\n",
        "<h1 align=\"center\">Implémentation du clustering des fleurs d’Iris. </h1>\n",
        "\n",
        "<h1>Avec les algorithme \n",
        "<li>K-Means.\n",
        "<li>CAH  \n",
        "<li>GMM.<h1>\n",
        "\n",
        "Réaliser par :\n",
        "\n",
        "AISSANI Amina.<br>\n",
        "Boudar Ahmed.<br>\n",
        "DAIKHA Chabane\n"
      ]
    },
    {
      "cell_type": "markdown",
      "metadata": {
        "id": "hbDkwQV91fOM",
        "colab_type": "text"
      },
      "source": [
        "##Implémentation de Kmeans"
      ]
    },
    {
      "cell_type": "markdown",
      "metadata": {
        "id": "0K92Utyy3Bq6",
        "colab_type": "text"
      },
      "source": [
        "Définition :"
      ]
    },
    {
      "cell_type": "markdown",
      "metadata": {
        "id": "1yr4AZUn1-1C",
        "colab_type": "text"
      },
      "source": [
        "Importation des librairies et chargement des données."
      ]
    },
    {
      "cell_type": "code",
      "metadata": {
        "id": "3h9BcyEi3DDO",
        "colab_type": "code",
        "colab": {}
      },
      "source": [
        "from sklearn.cluster import KMeans\n",
        "import matplotlib.pyplot as plt\n",
        "import numpy as np\n",
        "import pandas as pd\n",
        "\n",
        "\n",
        "#chargement des données\n",
        "df=pd.read_csv('iris.csv')\n",
        "print(type(df))"
      ],
      "execution_count": 0,
      "outputs": []
    },
    {
      "cell_type": "markdown",
      "metadata": {
        "id": "fW7Ah7aZ26ep",
        "colab_type": "text"
      },
      "source": [
        "Affichage des données, pour mieux comprendre le jeu de données.\n"
      ]
    },
    {
      "cell_type": "code",
      "metadata": {
        "id": "xx9iDfhC3C9K",
        "colab_type": "code",
        "colab": {}
      },
      "source": [
        "print(\"Affichier le debut de la liste\\n\",df.head())\n",
        "\n",
        "print(\"\\nLes informations\\n\",df.info)\n",
        "\n",
        "print(\"\\nDimension des données\\n\",df.shape)\n",
        "\n",
        "print(\"\\nStatistiques descriptives\\n\",df.describe())\n",
        "\n",
        "print(\"\\nles groupes \\n\",df.groupby('Species').size())\n",
        "\n",
        "print(\"\\nles columns\\n\", df.columns)\n"
      ],
      "execution_count": 0,
      "outputs": []
    },
    {
      "cell_type": "markdown",
      "metadata": {
        "id": "dukgNpRHoTxj",
        "colab_type": "text"
      },
      "source": [
        "Vérifier s'il y a une incohérence dans l'ensemble de données comme, il n'y a pas de valeurs nulles dans l'ensemble de données, donc les données peuvent être traitées."
      ]
    },
    {
      "cell_type": "code",
      "metadata": {
        "id": "XbCMTdXqorqe",
        "colab_type": "code",
        "colab": {}
      },
      "source": [
        "df.info()"
      ],
      "execution_count": 0,
      "outputs": []
    },
    {
      "cell_type": "markdown",
      "metadata": {
        "id": "BdjH6LFOulzb",
        "colab_type": "text"
      },
      "source": [
        "```\n",
        "<class 'pandas.core.frame.DataFrame'>\n",
        "Int64Index: 150 entries, 0 to 2\n",
        "Data columns (total 4 columns):\n",
        "0    150 non-null float64\n",
        "1    150 non-null float64\n",
        "2    150 non-null float64\n",
        "3    150 non-null float64\n",
        "dtypes: float64(4)\n",
        "memory usage: 5.9 KB\n",
        "```\n",
        "\n"
      ]
    },
    {
      "cell_type": "markdown",
      "metadata": {
        "id": "yopF6qhk_fD2",
        "colab_type": "text"
      },
      "source": [
        "Fractionner les données en deux tableaux X :  fonctionnalités et y : étiquettes."
      ]
    },
    {
      "cell_type": "code",
      "metadata": {
        "id": "80toOJ-J_8r6",
        "colab_type": "code",
        "colab": {}
      },
      "source": [
        "feature_columns = ['SepalLengthCm', 'SepalWidthCm', 'PetalLengthCm','PetalWidthCm']\n",
        "X = df[feature_columns].values\n",
        "y = df['Species'].values\n",
        "\n",
        "# Deuxiéme Methode en Utilisant iloc\n",
        "# x = df.iloc[:,[1,2,3,4]].values\n",
        "# y = df.iloc[:,-1]"
      ],
      "execution_count": 0,
      "outputs": []
    },
    {
      "cell_type": "markdown",
      "metadata": {
        "id": "ojPe2DTpAtre",
        "colab_type": "text"
      },
      "source": [
        "Transformer la sortie Species en numérique :\n",
        "  0 : Iris setosa,\n",
        "  1 : Iris versicolor,\n",
        "  2 : Iris virginica."
      ]
    },
    {
      "cell_type": "code",
      "metadata": {
        "id": "OQ3VlAm1AuOq",
        "colab_type": "code",
        "outputId": "0b4496c1-684d-4a37-d9e2-5d95335d4e26",
        "colab": {
          "base_uri": "https://localhost:8080/",
          "height": 34
        }
      },
      "source": [
        "from sklearn.preprocessing import LabelEncoder\n",
        "le = LabelEncoder()\n",
        "y = le.fit_transform(y)\n",
        "print(set(y.tolist()))"
      ],
      "execution_count": 0,
      "outputs": [
        {
          "output_type": "stream",
          "text": [
            "{0, 1, 2}\n"
          ],
          "name": "stdout"
        }
      ]
    },
    {
      "cell_type": "markdown",
      "metadata": {
        "id": "7-GpYY8rENtq",
        "colab_type": "text"
      },
      "source": [
        "Centrage réduction des données:\n",
        "\n",
        "pour éviter que variables à forte variance pèsent indûment sur les résultats"
      ]
    },
    {
      "cell_type": "code",
      "metadata": {
        "id": "9LCIQ6dCEOJ1",
        "colab_type": "code",
        "colab": {}
      },
      "source": [
        "from sklearn import preprocessing\n",
        "X = preprocessing.scale(X)"
      ],
      "execution_count": 0,
      "outputs": []
    },
    {
      "cell_type": "markdown",
      "metadata": {
        "id": "Wr1AOGouF6K1",
        "colab_type": "text"
      },
      "source": [
        "Pour le choix d'un nombre optimal de clusters,On s'est basé sur deux méthode du calcul :\n",
        "intertie et la silhouette.\n",
        "\n",
        "Premiere Methode : inertie."
      ]
    },
    {
      "cell_type": "code",
      "metadata": {
        "id": "d7uJNf2IGYnw",
        "colab_type": "code",
        "outputId": "d75f35d6-d80f-4a17-d332-257027cd7fc6",
        "colab": {
          "base_uri": "https://localhost:8080/",
          "height": 295
        }
      },
      "source": [
        "from sklearn.cluster import KMeans\n",
        "c = []\n",
        "for i in range(1, 11):\n",
        "    kmeans = KMeans(n_clusters=i, init='k-means++', max_iter=300 ,n_init=10, random_state=0)\n",
        "    kmeans.fit(X)\n",
        "    c.append(kmeans.inertia_)\n",
        "\n",
        "# Graphe\n",
        "plt.plot(range(1, 11), c)\n",
        "plt.title('Nombre K')\n",
        "plt.xlabel('K')\n",
        "plt.ylabel('C') \n",
        "plt.show()\n"
      ],
      "execution_count": 0,
      "outputs": [
        {
          "output_type": "display_data",
          "data": {
            "image/png": "[encoded data removed]",
            "text/plain": [
              "<Figure size 432x288 with 1 Axes>"
            ]
          },
          "metadata": {
            "tags": []
          }
        }
      ]
    },
    {
      "cell_type": "markdown",
      "metadata": {
        "id": "VMdVsmHVHR4T",
        "colab_type": "text"
      },
      "source": [
        "Deuxieme Methode : silhouette.\n",
        "Le tracé de silhouette affiche une mesure de la proximité de chaque point d'un cluster avec les points des clusters voisins et fournit ainsi un moyen d'évaluer visuellement des paramètres tels que le nombre de clusters. Cette mesure a une plage de [-1, 1]."
      ]
    },
    {
      "cell_type": "code",
      "metadata": {
        "id": "0FqJ8MoFHScN",
        "colab_type": "code",
        "colab": {}
      },
      "source": [
        "from sklearn import metrics\n",
        "\n",
        "#utilisation de la métrique \"silhouette\" pour faire varier le nombre de clusters de 2 à 10\n",
        "d = np.arange(11,dtype=\"double\")\n",
        "for k in np.arange(11):\n",
        " km = KMeans(n_clusters=k+2)\n",
        " km.fit(X)\n",
        " d[k] = metrics.silhouette_score(X,km.labels_)\n",
        "print(d)\n",
        "\n",
        "#graphique\n",
        "#justification du choix de la silhouette\n",
        "plt.title(\"Silhouette\")\n",
        "plt.xlabel(\"nb of clusters\")\n",
        "plt.plot(np.arange(2,13,1),d)\n",
        "plt.show()"
      ],
      "execution_count": 0,
      "outputs": []
    },
    {
      "cell_type": "markdown",
      "metadata": {
        "id": "45OnoQBgtHeB",
        "colab_type": "text"
      },
      "source": [
        "Selon les deux methodes le nombre optimal de clusters est le point représentant le coude. Ici le coude peut être représenté par K valant 3 ou 4.\n",
        "Nous prenons le nombre opimale de clusters = 3 et nous passons a l'application du modele."
      ]
    },
    {
      "cell_type": "code",
      "metadata": {
        "id": "Erui5aIOtrBr",
        "colab_type": "code",
        "outputId": "22a24342-8aa2-41a4-9703-4a9eccbf2569",
        "colab": {
          "base_uri": "https://localhost:8080/",
          "height": 136
        }
      },
      "source": [
        "#On spécifie le paramètre init=k-means++, qui sélectionne les centres de cluster initiaux pour le clustering k-mean de \n",
        "#manière intelligente pour accélérer la convergence. \n",
        "#n_init=10 par défaut  :Nombre de fois que l'algorithme k-means sera exécuté avec différentes graines de centroïde. \n",
        "#max_iter =300 par défaut: Nombre maximal d'itérations de l'algorithme k-means pour une seule exécution.\n",
        "\n",
        "km = KMeans(n_clusters= 3, max_iter= 100, n_init=10, random_state=0)\n",
        "ypred = km.fit_predict(X)\n",
        "ypred"
      ],
      "execution_count": 0,
      "outputs": [
        {
          "output_type": "execute_result",
          "data": {
            "text/plain": [
              "array([1, 1, 1, 1, 1, 1, 1, 1, 1, 1, 1, 1, 1, 1, 1, 1, 1, 1, 1, 1, 1, 1,\n",
              "       1, 1, 1, 1, 1, 1, 1, 1, 1, 1, 1, 1, 1, 1, 1, 1, 1, 1, 1, 1, 1, 1,\n",
              "       1, 1, 1, 1, 1, 1, 2, 2, 2, 0, 0, 0, 2, 0, 0, 0, 0, 0, 0, 0, 0, 2,\n",
              "       0, 0, 0, 0, 2, 0, 0, 0, 0, 2, 2, 2, 0, 0, 0, 0, 0, 0, 0, 2, 2, 0,\n",
              "       0, 0, 0, 0, 0, 0, 0, 0, 0, 0, 0, 0, 2, 0, 2, 2, 2, 2, 0, 2, 2, 2,\n",
              "       2, 2, 2, 0, 0, 2, 2, 2, 2, 0, 2, 0, 2, 0, 2, 2, 0, 2, 2, 2, 2, 2,\n",
              "       2, 0, 0, 2, 2, 2, 0, 2, 2, 2, 0, 2, 2, 2, 0, 2, 2, 0], dtype=int32)"
            ]
          },
          "metadata": {
            "tags": []
          },
          "execution_count": 14
        }
      ]
    },
    {
      "cell_type": "markdown",
      "metadata": {
        "id": "vpgm9-WPt8Ha",
        "colab_type": "text"
      },
      "source": [
        ""
      ]
    },
    {
      "cell_type": "code",
      "metadata": {
        "id": "QtmGYwp8t9G-",
        "colab_type": "code",
        "outputId": "a2b29d62-831b-44b5-bba2-b9563289dce4",
        "colab": {
          "base_uri": "https://localhost:8080/",
          "height": 51
        }
      },
      "source": [
        "import seaborn as sns\n",
        "score1 = metrics.silhouette_score(X, ypred)\n",
        "print(score1)\n",
        "\n",
        "from sklearn.metrics.cluster import adjusted_rand_score\n",
        "\n",
        "score2 = adjusted_rand_score(y, ypred)\n",
        "print(score2)\n"
      ],
      "execution_count": 0,
      "outputs": [
        {
          "output_type": "stream",
          "text": [
            "0.4589717867018717\n",
            "0.6201351808870379\n"
          ],
          "name": "stdout"
        }
      ]
    },
    {
      "cell_type": "markdown",
      "metadata": {
        "id": "rD7283Sd2n1O",
        "colab_type": "text"
      },
      "source": [
        "# Nouvelle section"
      ]
    },
    {
      "cell_type": "markdown",
      "metadata": {
        "id": "fszuaWvTv_w6",
        "colab_type": "text"
      },
      "source": [
        "##Implémentation de CAH"
      ]
    },
    {
      "cell_type": "markdown",
      "metadata": {
        "id": "HNWdNYtt3GyP",
        "colab_type": "text"
      },
      "source": [
        "Définition:"
      ]
    },
    {
      "cell_type": "markdown",
      "metadata": {
        "id": "_9kHzvQGwXEo",
        "colab_type": "text"
      },
      "source": [
        "Importer les librairies necessaires "
      ]
    },
    {
      "cell_type": "code",
      "metadata": {
        "id": "HgYHAc0vwLXB",
        "colab_type": "code",
        "colab": {}
      },
      "source": [
        "from matplotlib import pyplot as plt\n",
        "from scipy.cluster.hierarchy import dendrogram, linkage\n",
        "import scipy.cluster.hierarchy as sch\n"
      ],
      "execution_count": 0,
      "outputs": []
    },
    {
      "cell_type": "markdown",
      "metadata": {
        "id": "bcN-3eknwcKc",
        "colab_type": "text"
      },
      "source": [
        "Générer la matrice des distance "
      ]
    },
    {
      "cell_type": "code",
      "metadata": {
        "id": "htyVZLLbwgXY",
        "colab_type": "code",
        "colab": {}
      },
      "source": [
        "\n",
        "#générer la matrice des liens\n",
        "a = linkage(X,method='ward',metric='euclidean')"
      ],
      "execution_count": 0,
      "outputs": []
    },
    {
      "cell_type": "markdown",
      "metadata": {
        "id": "elvtxAGywk8X",
        "colab_type": "text"
      },
      "source": [
        "Affichage du dendrogramme."
      ]
    },
    {
      "cell_type": "code",
      "metadata": {
        "id": "w7-KNYgrwqxT",
        "colab_type": "code",
        "outputId": "5136ec05-6707-41d9-fa41-b4bdcecf16c9",
        "colab": {
          "base_uri": "https://localhost:8080/",
          "height": 281
        }
      },
      "source": [
        "#affichage du dendrogramme\n",
        "plt.title(\"CAH\")\n",
        "dendrogram(a,labels=df.index,orientation='left' ,color_threshold=12)\n",
        "plt.show()"
      ],
      "execution_count": 0,
      "outputs": [
        {
          "output_type": "display_data",
          "data": {
            "image/png": "[encoded data removed]",
            "text/plain": [
              "<Figure size 432x288 with 1 Axes>"
            ]
          },
          "metadata": {
            "tags": []
          }
        }
      ]
    },
    {
      "cell_type": "markdown",
      "metadata": {
        "id": "mL3FG7HlxwzD",
        "colab_type": "text"
      },
      "source": [
        "Découpage à t = 12 identifiants de 3 groupes"
      ]
    },
    {
      "cell_type": "code",
      "metadata": {
        "id": "rpfzJ5NLyA_M",
        "colab_type": "code",
        "outputId": "31639a89-4afd-41e7-bd6b-9e400f37fb4d",
        "colab": {
          "base_uri": "https://localhost:8080/",
          "height": 34
        }
      },
      "source": [
        "groupes_cah = sch.fcluster(a,t=12,criterion='distance') \n",
        "print(np.unique(groupes_cah).size, \"groupes constitués\")"
      ],
      "execution_count": 0,
      "outputs": [
        {
          "output_type": "stream",
          "text": [
            "3 groupes constitués\n"
          ],
          "name": "stdout"
        }
      ]
    },
    {
      "cell_type": "markdown",
      "metadata": {
        "id": "F1UaM4n_0B53",
        "colab_type": "text"
      },
      "source": [
        ""
      ]
    },
    {
      "cell_type": "code",
      "metadata": {
        "id": "jv0L-3bI0Cef",
        "colab_type": "code",
        "outputId": "324169f7-98a2-4151-d8cc-51c208294894",
        "colab": {
          "base_uri": "https://localhost:8080/",
          "height": 34
        }
      },
      "source": [
        "score3 = adjusted_rand_score(y, groupes_cah)\n",
        "print(score3)"
      ],
      "execution_count": 0,
      "outputs": [
        {
          "output_type": "stream",
          "text": [
            "0.615322993214545\n"
          ],
          "name": "stdout"
        }
      ]
    },
    {
      "cell_type": "markdown",
      "metadata": {
        "id": "06smbrfA0Qp8",
        "colab_type": "text"
      },
      "source": [
        "Comparaison entre Kmeans et CAH."
      ]
    },
    {
      "cell_type": "code",
      "metadata": {
        "id": "PFaTK3Ll0Q65",
        "colab_type": "code",
        "outputId": "d75281c4-571b-4266-9166-a3c576cfd207",
        "colab": {
          "base_uri": "https://localhost:8080/",
          "height": 173
        }
      },
      "source": [
        "\n",
        "pd.crosstab(groupes_cah,kmeans.labels_)"
      ],
      "execution_count": 0,
      "outputs": [
        {
          "output_type": "execute_result",
          "data": {
            "text/html": [
              "<div>\n",
              "<style scoped>\n",
              "    .dataframe tbody tr th:only-of-type {\n",
              "        vertical-align: middle;\n",
              "    }\n",
              "\n",
              "    .dataframe tbody tr th {\n",
              "        vertical-align: top;\n",
              "    }\n",
              "\n",
              "    .dataframe thead th {\n",
              "        text-align: right;\n",
              "    }\n",
              "</style>\n",
              "<table border=\"1\" class=\"dataframe\">\n",
              "  <thead>\n",
              "    <tr style=\"text-align: right;\">\n",
              "      <th>col_0</th>\n",
              "      <th>0</th>\n",
              "      <th>1</th>\n",
              "      <th>2</th>\n",
              "      <th>3</th>\n",
              "      <th>4</th>\n",
              "      <th>5</th>\n",
              "      <th>6</th>\n",
              "      <th>7</th>\n",
              "      <th>8</th>\n",
              "      <th>9</th>\n",
              "    </tr>\n",
              "    <tr>\n",
              "      <th>row_0</th>\n",
              "      <th></th>\n",
              "      <th></th>\n",
              "      <th></th>\n",
              "      <th></th>\n",
              "      <th></th>\n",
              "      <th></th>\n",
              "      <th></th>\n",
              "      <th></th>\n",
              "      <th></th>\n",
              "      <th></th>\n",
              "    </tr>\n",
              "  </thead>\n",
              "  <tbody>\n",
              "    <tr>\n",
              "      <th>1</th>\n",
              "      <td>17</td>\n",
              "      <td>0</td>\n",
              "      <td>0</td>\n",
              "      <td>0</td>\n",
              "      <td>13</td>\n",
              "      <td>0</td>\n",
              "      <td>19</td>\n",
              "      <td>0</td>\n",
              "      <td>0</td>\n",
              "      <td>0</td>\n",
              "    </tr>\n",
              "    <tr>\n",
              "      <th>2</th>\n",
              "      <td>1</td>\n",
              "      <td>0</td>\n",
              "      <td>0</td>\n",
              "      <td>21</td>\n",
              "      <td>0</td>\n",
              "      <td>0</td>\n",
              "      <td>0</td>\n",
              "      <td>0</td>\n",
              "      <td>0</td>\n",
              "      <td>8</td>\n",
              "    </tr>\n",
              "    <tr>\n",
              "      <th>3</th>\n",
              "      <td>0</td>\n",
              "      <td>17</td>\n",
              "      <td>18</td>\n",
              "      <td>0</td>\n",
              "      <td>0</td>\n",
              "      <td>9</td>\n",
              "      <td>0</td>\n",
              "      <td>12</td>\n",
              "      <td>3</td>\n",
              "      <td>12</td>\n",
              "    </tr>\n",
              "  </tbody>\n",
              "</table>\n",
              "</div>"
            ],
            "text/plain": [
              "col_0   0   1   2   3   4  5   6   7  8   9\n",
              "row_0                                      \n",
              "1      17   0   0   0  13  0  19   0  0   0\n",
              "2       1   0   0  21   0  0   0   0  0   8\n",
              "3       0  17  18   0   0  9   0  12  3  12"
            ]
          },
          "metadata": {
            "tags": []
          },
          "execution_count": 35
        }
      ]
    },
    {
      "cell_type": "markdown",
      "metadata": {
        "id": "kHPj1h0K0-86",
        "colab_type": "text"
      },
      "source": [
        "##Implémentation de GMM"
      ]
    },
    {
      "cell_type": "markdown",
      "metadata": {
        "id": "N1iQlZlU1gst",
        "colab_type": "text"
      },
      "source": [
        "Définitions : "
      ]
    },
    {
      "cell_type": "markdown",
      "metadata": {
        "id": "jlnX8nFm1G_N",
        "colab_type": "text"
      },
      "source": [
        "Importation des librairies."
      ]
    },
    {
      "cell_type": "code",
      "metadata": {
        "id": "PGEnDslv1liR",
        "colab_type": "code",
        "colab": {}
      },
      "source": [
        "from sklearn.mixture import GaussianMixture\n"
      ],
      "execution_count": 0,
      "outputs": []
    },
    {
      "cell_type": "markdown",
      "metadata": {
        "id": "ZqJTVBsA3cjE",
        "colab_type": "text"
      },
      "source": [
        "Application de modeles"
      ]
    },
    {
      "cell_type": "code",
      "metadata": {
        "id": "1XgtluUl3c0D",
        "colab_type": "code",
        "colab": {}
      },
      "source": [
        "gmm = GaussianMixture(n_components=3)\n",
        "gmm.fit(X)\n",
        "\n",
        "ypred2 = gmm.predict(X)\n",
        "ypred2\n",
        "\n"
      ],
      "execution_count": 0,
      "outputs": []
    },
    {
      "cell_type": "markdown",
      "metadata": {
        "id": "afm5Rsfg3dLu",
        "colab_type": "text"
      },
      "source": [
        "Evaluation "
      ]
    },
    {
      "cell_type": "code",
      "metadata": {
        "id": "8Ndg_JCA3dhF",
        "colab_type": "code",
        "outputId": "9e528ade-7b93-4587-d160-0175735dff4c",
        "colab": {
          "base_uri": "https://localhost:8080/",
          "height": 34
        }
      },
      "source": [
        "from sklearn.metrics.cluster import adjusted_rand_score\n",
        "\n",
        "score = adjusted_rand_score(y, ypred2)\n",
        "score"
      ],
      "execution_count": 0,
      "outputs": [
        {
          "output_type": "execute_result",
          "data": {
            "text/plain": [
              "0.9038742317748124"
            ]
          },
          "metadata": {
            "tags": []
          },
          "execution_count": 40
        }
      ]
    },
    {
      "cell_type": "markdown",
      "metadata": {
        "id": "8SD8nTQXsjiF",
        "colab_type": "text"
      },
      "source": [
        "\n",
        "**Conclusion **\n",
        "On comparons et on analysons les résultats des scores donnés par le métrique \"adjusted rand score\" on conclue que l'algorithme GMM donne des meilleurs résultats que le modèle k-means et CAH."
      ]
    }
  ]
}